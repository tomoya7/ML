{
 "cells": [
  {
   "cell_type": "code",
   "execution_count": 19,
   "metadata": {},
   "outputs": [],
   "source": [
    "import numpy as np\n",
    "import matplotlib.pyplot as plt\n",
    "from math import sqrt\n",
    "from collections import Counter\n",
    "from sklearn import datasets\n",
    "from sklearn.model_selection import train_test_split\n",
    "from sklearn.preprocessing import StandardScaler"
   ]
  },
  {
   "cell_type": "markdown",
   "metadata": {},
   "source": [
    "## Dataset"
   ]
  },
  {
   "cell_type": "code",
   "execution_count": 24,
   "metadata": {},
   "outputs": [],
   "source": [
    "iris=datasets.load_iris()\n",
    "X=iris['data']\n",
    "y=iris['target']\n",
    "X_train_iris,X_test_iris,y_train_iris,y_test_iris=train_test_split(X,y,test_size=0.2)\n",
    "standardscalar=StandardScaler()\n",
    "standardscalar.fit(X_train_iris)\n",
    "X_train_iris_standard=standardscalar.transform(X_train_iris)\n",
    "X_test_iris_standard=standardscalar.transform(X_test_iris)\n",
    "#X_train_iris[:10],X_train_iris_standard[:10]"
   ]
  },
  {
   "cell_type": "code",
   "execution_count": 23,
   "metadata": {
    "scrolled": true
   },
   "outputs": [],
   "source": [
    "digits=datasets.load_digits()\n",
    "X=digits.data\n",
    "y=digits.target\n",
    "X_train_digits,X_test_digits,y_train_digits,y_test_digits=train_test_split(X,y)"
   ]
  },
  {
   "cell_type": "markdown",
   "metadata": {},
   "source": [
    "## KNN"
   ]
  },
  {
   "cell_type": "code",
   "execution_count": 22,
   "metadata": {},
   "outputs": [],
   "source": [
    "def KNN_classify(k,X_train,y_train,x):\n",
    "    distances=[sqrt(np.sum((x_train-x)**2)) for x_train in X_train]\n",
    "    neareat=np.argsort(distances)\n",
    "    topk_y=y_train[neareat[:k]]\n",
    "    votes=Counter(topk_y)\n",
    "    return votes.most_common()[0][0]"
   ]
  },
  {
   "cell_type": "markdown",
   "metadata": {},
   "source": [
    "## Eva"
   ]
  },
  {
   "cell_type": "code",
   "execution_count": 20,
   "metadata": {},
   "outputs": [],
   "source": [
    "from sklearn.neighbors import KNeighborsClassifier"
   ]
  },
  {
   "cell_type": "code",
   "execution_count": 21,
   "metadata": {
    "scrolled": true
   },
   "outputs": [
    {
     "data": {
      "text/plain": [
       "(1.0, 1.0)"
      ]
     },
     "execution_count": 21,
     "metadata": {},
     "output_type": "execute_result"
    }
   ],
   "source": [
    "knn_clf=KNeighborsClassifier(n_neighbors=3)\n",
    "knn_clf.fit(X_train_iris_standard,y_train_iris)\n",
    "y_predict=knn_clf.predict(X_test_iris_standard)\n",
    "acc=np.sum(y_predict==y_test_iris)/len(y_test_iris)\n",
    "acc_sklean=knn_clf.score(X_test_iris_standard,y_test_iris)\n",
    "acc,acc_sklean"
   ]
  },
  {
   "cell_type": "markdown",
   "metadata": {},
   "source": [
    "## grid search & cross validation"
   ]
  },
  {
   "cell_type": "code",
   "execution_count": 30,
   "metadata": {},
   "outputs": [],
   "source": [
    "from sklearn.model_selection import GridSearchCV"
   ]
  },
  {
   "cell_type": "code",
   "execution_count": 31,
   "metadata": {},
   "outputs": [
    {
     "data": {
      "text/plain": [
       "({'n_neighbors': 4, 'p': 3, 'weights': 'distance'}, 0.9844444444444445)"
      ]
     },
     "execution_count": 31,
     "metadata": {},
     "output_type": "execute_result"
    }
   ],
   "source": [
    "hyperparameters=[\n",
    "    {'weights':['distance'],'n_neighbors':[i for i in range(2,11)],'p':[i for i in range(1,6)]}\n",
    "]\n",
    "knn_clf=KNeighborsClassifier()\n",
    "grid_search=GridSearchCV(param_grid=hyperparameters,estimator=knn_clf,n_jobs=-1)\n",
    "grid_search.fit(X_train_digits,y_train_digits)\n",
    "best_knn_clf=grid_search.best_estimator_\n",
    "grid_search.best_params_,best_knn_clf.score(X_test_digits,y_test_digits)"
   ]
  },
  {
   "cell_type": "code",
   "execution_count": 25,
   "metadata": {},
   "outputs": [],
   "source": [
    "from sklearn.model_selection import cross_val_score"
   ]
  },
  {
   "cell_type": "code",
   "execution_count": 26,
   "metadata": {},
   "outputs": [],
   "source": [
    "best_score,best_p,best_k=0,0,0\n",
    "for k in range(2,11):\n",
    "    for p in range(1,6):\n",
    "        knn_clf=KNeighborsClassifier(weights='distance',p=p,n_neighbors=k)\n",
    "        scores=cross_val_score(knn_clf,X_train_digits,y_train_digits)\n",
    "        score=np.mean(scores)\n",
    "        if score> best_score:\n",
    "            best_score,best_p,best_k=score,p,k"
   ]
  },
  {
   "cell_type": "code",
   "execution_count": 33,
   "metadata": {},
   "outputs": [
    {
     "data": {
      "text/plain": [
       "(4, 3, 0.9844444444444445)"
      ]
     },
     "execution_count": 33,
     "metadata": {},
     "output_type": "execute_result"
    }
   ],
   "source": [
    "best2_knn_clf=KNeighborsClassifier(weights='distance',p=best_p,n_neighbors=best_k)\n",
    "best2_knn_clf.fit(X_train_digits,y_train_digits)\n",
    "best_k,best_p,best2_knn_clf.score(X_test_digits,y_test_digits)"
   ]
  }
 ],
 "metadata": {
  "kernelspec": {
   "display_name": "Python 3",
   "language": "python",
   "name": "python3"
  },
  "language_info": {
   "codemirror_mode": {
    "name": "ipython",
    "version": 3
   },
   "file_extension": ".py",
   "mimetype": "text/x-python",
   "name": "python",
   "nbconvert_exporter": "python",
   "pygments_lexer": "ipython3",
   "version": "3.5.2"
  }
 },
 "nbformat": 4,
 "nbformat_minor": 2
}
