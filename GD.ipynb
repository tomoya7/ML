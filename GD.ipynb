{
 "cells": [
  {
   "cell_type": "code",
   "execution_count": 6,
   "metadata": {},
   "outputs": [],
   "source": [
    "import numpy as np\n",
    "import matplotlib.pyplot as plt"
   ]
  },
  {
   "cell_type": "markdown",
   "metadata": {},
   "source": [
    "## Dataset"
   ]
  },
  {
   "cell_type": "code",
   "execution_count": 7,
   "metadata": {},
   "outputs": [],
   "source": [
    "np.random.seed(666)\n",
    "X=np.random.random((1000,10))\n",
    "X_b=np.hstack([np.ones((len(X),1)),X])\n",
    "true_theta=np.arange(1,12,dtype='float')\n",
    "y=X_b.dot(true_theta)+np.random.normal(size=len(X))"
   ]
  },
  {
   "cell_type": "markdown",
   "metadata": {},
   "source": [
    "## gd"
   ]
  },
  {
   "cell_type": "code",
   "execution_count": 8,
   "metadata": {},
   "outputs": [],
   "source": [
    "def dj_gd(theta,X_b,y):\n",
    "    return (X_b.dot(theta) - y).dot(X_b)*2/len(y)\n",
    "def dj_debug(theta,X_b,y,epsilon=0.01):\n",
    "    res=np.empty(len(theta))\n",
    "    def J(theta,X_b,y):\n",
    "        return np.mean((y-X_b.dot(theta))**2)\n",
    "    for i in range(len(theta)):\n",
    "        theta_1=theta.copy()\n",
    "        theta_1[i]+=epsilon\n",
    "        theta_2=theta.copy()\n",
    "        theta_2[i]-=epsilon\n",
    "        res[i]=(J(theta_1,X_b,y)-J(theta_2,X_b,y))/(2*epsilon)\n",
    "    return res\n",
    "def gd(X_b,y,initial_theta,lr=0.01,n_iters=1e4):\n",
    "    theta=initial_theta\n",
    "    for _ in range(int(n_iters)):\n",
    "        gradient=dj_debug(theta,X_b,y)\n",
    "        theta=theta-lr*gradient\n",
    "    return theta"
   ]
  },
  {
   "cell_type": "markdown",
   "metadata": {},
   "source": [
    "## sgd"
   ]
  },
  {
   "cell_type": "code",
   "execution_count": 9,
   "metadata": {},
   "outputs": [],
   "source": [
    "def dj_sgd(theta,X_b_i,y_i):\n",
    "    return np.array((X_b_i.dot(theta) - y_i)).dot(X_b_i)*2\n",
    "def sgd(X_b,y,initial_theta,epochs=5,t0=5,t1=50):\n",
    "    theta=initial_theta\n",
    "    def lr(t):\n",
    "        return t0/(t+t1)\n",
    "    for epoch in range(epochs):\n",
    "        for i in range(len(X_b)):\n",
    "            gradient=dj_sgd(theta,X_b[i],y[i])\n",
    "            theta=theta-lr(epoch*len(X_b)+i)*gradient\n",
    "    return theta"
   ]
  },
  {
   "cell_type": "markdown",
   "metadata": {},
   "source": [
    "## eva"
   ]
  },
  {
   "cell_type": "code",
   "execution_count": 10,
   "metadata": {
    "scrolled": true
   },
   "outputs": [
    {
     "name": "stdout",
     "output_type": "stream",
     "text": [
      "[ 1.1251597   2.05312521  2.91522497  4.11895968  5.05002117  5.90494046\n",
      "  6.97383745  8.00088367  8.86213468  9.98608331 10.90529198]\n",
      "CPU times: user 17.2 s, sys: 24.1 s, total: 41.3 s\n",
      "Wall time: 5.2 s\n"
     ]
    }
   ],
   "source": [
    "%%time\n",
    "initial_theta=np.zeros(X_b.shape[1])\n",
    "theta=gd(X_b,y,initial_theta)\n",
    "print(theta)"
   ]
  },
  {
   "cell_type": "code",
   "execution_count": null,
   "metadata": {},
   "outputs": [],
   "source": []
  },
  {
   "cell_type": "code",
   "execution_count": null,
   "metadata": {},
   "outputs": [],
   "source": []
  }
 ],
 "metadata": {
  "kernelspec": {
   "display_name": "Python 3",
   "language": "python",
   "name": "python3"
  },
  "language_info": {
   "codemirror_mode": {
    "name": "ipython",
    "version": 3
   },
   "file_extension": ".py",
   "mimetype": "text/x-python",
   "name": "python",
   "nbconvert_exporter": "python",
   "pygments_lexer": "ipython3",
   "version": "3.5.2"
  }
 },
 "nbformat": 4,
 "nbformat_minor": 2
}
