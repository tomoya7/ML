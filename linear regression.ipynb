{
 "cells": [
  {
   "cell_type": "code",
   "execution_count": 1,
   "metadata": {},
   "outputs": [],
   "source": [
    "import numpy as np\n",
    "import matplotlib.pyplot as plt\n",
    "from sklearn import datasets\n",
    "from sklearn.model_selection import train_test_split\n",
    "from sklearn.metrics import mean_squared_error,r2_score\n",
    "from sklearn.preprocessing import StandardScaler"
   ]
  },
  {
   "cell_type": "markdown",
   "metadata": {},
   "source": [
    "## Dataset"
   ]
  },
  {
   "cell_type": "code",
   "execution_count": 20,
   "metadata": {},
   "outputs": [
    {
     "data": {
      "text/plain": [
       "(array([6.52416267e+01, 5.41606880e+02, 4.90572511e+01, 5.63520406e-02,\n",
       "        1.31046702e-02, 4.35547847e-01, 7.94554611e+02, 4.39363079e+00,\n",
       "        7.71542294e+01, 2.90932981e+04, 4.45720868e+00, 7.75713385e+03,\n",
       "        5.14249687e+01]),)"
      ]
     },
     "execution_count": 20,
     "metadata": {},
     "output_type": "execute_result"
    }
   ],
   "source": [
    "boston=datasets.load_boston()\n",
    "X_boston=boston.data\n",
    "y_boston=boston.target\n",
    "X_boston=X_boston[y_boston<50.0]\n",
    "y_boston=y_boston[y_boston<50.0]\n",
    "X_train_boston,X_test_boston,y_train_boston,y_test_boston=train_test_split(X_boston,y_boston)\n",
    "\n",
    "standardscalar=StandardScaler()\n",
    "standardscalar.fit(X_train_boston)\n",
    "X_train_boston_standard=standardscalar.transform(X_train_boston)\n",
    "X_test_boston_standard=standardscalar.transform(X_test_boston)\n",
    "standardscalar"
   ]
  },
  {
   "cell_type": "markdown",
   "metadata": {},
   "source": [
    "## linear regression"
   ]
  },
  {
   "cell_type": "code",
   "execution_count": 14,
   "metadata": {},
   "outputs": [],
   "source": [
    "class linear_regression():\n",
    "    def __init__(self):\n",
    "        self.weights_=None\n",
    "        self.bias_=None\n",
    "        self._theta=None\n",
    "    def fit(self,X_train,y_train,lr=0.01,epochs=5,t0=5,t1=50):\n",
    "        def dj(theta,X_b_i,y_i):\n",
    "            return np.array((X_b_i.dot(theta) - y_i)).dot(X_b_i)*2\n",
    "\n",
    "        def sgd(X_b,y,initial_theta,epochs):\n",
    "            theta=initial_theta\n",
    "            def lr(t):\n",
    "                return t0/(t+t1)\n",
    "            for epoch in range(epochs):\n",
    "                for i in range(len(X_b)):\n",
    "                    gradient=dj(theta,X_b[i],y[i])\n",
    "                    theta=theta-lr(epoch*len(X_b)+i)*gradient\n",
    "            return theta\n",
    "        X_b=np.hstack([np.ones([len(X_train),1]),X_train])\n",
    "        initial_theta=np.zeros(X_b.shape[1])\n",
    "        self._theta=sgd(X_b,y_train,initial_theta,epochs)\n",
    "        self.bias_=self._theta[0]\n",
    "        self.weights_=self._theta[1:]\n",
    "        return self\n",
    "    def predict(self,X_predict):\n",
    "        X_b=np.hstack([np.ones((len(X_predict),1)),X_predict])\n",
    "        return X_b.dot(self._theta)\n",
    "    def score(self,X_test,y_test):\n",
    "        y_predict=self.predict(X_test)\n",
    "        return 1 - mean_squared_error(y_predict,y_test)/ np.var(y_test)\n",
    "    def __repr__(self):\n",
    "        return 'tomoya'"
   ]
  },
  {
   "cell_type": "markdown",
   "metadata": {},
   "source": [
    "## Eva"
   ]
  },
  {
   "cell_type": "code",
   "execution_count": 15,
   "metadata": {},
   "outputs": [],
   "source": [
    "from sklearn.linear_model import LinearRegression"
   ]
  },
  {
   "cell_type": "code",
   "execution_count": 16,
   "metadata": {
    "scrolled": true
   },
   "outputs": [
    {
     "data": {
      "text/plain": [
       "0.7368320224925404"
      ]
     },
     "execution_count": 16,
     "metadata": {},
     "output_type": "execute_result"
    }
   ],
   "source": [
    "lin_reg=linear_regression()\n",
    "lin_reg.fit(X_train_boston_standard,y_train_boston)\n",
    "lin_reg.score(X_test_boston_standard,y_test_boston)"
   ]
  },
  {
   "cell_type": "code",
   "execution_count": 7,
   "metadata": {
    "scrolled": true
   },
   "outputs": [
    {
     "data": {
      "text/plain": [
       "0.7496274984361011"
      ]
     },
     "execution_count": 7,
     "metadata": {},
     "output_type": "execute_result"
    }
   ],
   "source": [
    "lin_reg1=LinearRegression()\n",
    "lin_reg1.fit(X_train_boston_standard,y_train_boston)\n",
    "lin_reg1.score(X_test_boston_standard,y_test_boston)"
   ]
  },
  {
   "cell_type": "code",
   "execution_count": null,
   "metadata": {},
   "outputs": [],
   "source": []
  }
 ],
 "metadata": {
  "kernelspec": {
   "display_name": "Python 3",
   "language": "python",
   "name": "python3"
  },
  "language_info": {
   "codemirror_mode": {
    "name": "ipython",
    "version": 3
   },
   "file_extension": ".py",
   "mimetype": "text/x-python",
   "name": "python",
   "nbconvert_exporter": "python",
   "pygments_lexer": "ipython3",
   "version": "3.5.2"
  }
 },
 "nbformat": 4,
 "nbformat_minor": 2
}
