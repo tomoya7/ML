{
 "cells": [
  {
   "cell_type": "code",
   "execution_count": 56,
   "metadata": {},
   "outputs": [],
   "source": [
    "import numpy as np\n",
    "from sklearn.metrics import accuracy_score\n",
    "import matplotlib.pyplot as plt\n",
    "from  sklearn  import datasets\n",
    "from sklearn.model_selection import train_test_split"
   ]
  },
  {
   "cell_type": "markdown",
   "metadata": {},
   "source": [
    "## Datasets"
   ]
  },
  {
   "cell_type": "code",
   "execution_count": 57,
   "metadata": {},
   "outputs": [],
   "source": [
    "iris=datasets.load_iris()\n",
    "X_iris=iris['data']\n",
    "y_iris=iris['target']\n",
    "X_iris=X_iris[y_iris<2,:2]\n",
    "y_iris=y_iris[y_iris<2]\n",
    "X_iris_train ,X_iris_test,y_iris_train,y_iris_test=train_test_split(X_iris,y_iris)"
   ]
  },
  {
   "cell_type": "code",
   "execution_count": 58,
   "metadata": {},
   "outputs": [],
   "source": [
    "X=np.random.normal(0,1,size=(200,2))\n",
    "y=np.array(X[:,0]**2+X[:,1] <1.5,dtype='int')\n",
    "for  _ in range(20):\n",
    "    y[np.random.randint(200)]=1\n",
    "X_train,X_test,y_train,y_test=train_test_split(X,y)"
   ]
  },
  {
   "cell_type": "markdown",
   "metadata": {},
   "source": [
    "## Logistic Regression"
   ]
  },
  {
   "cell_type": "code",
   "execution_count": 59,
   "metadata": {},
   "outputs": [],
   "source": [
    "class logistic_regression():\n",
    "    def __init__(self):\n",
    "        self._theta=None\n",
    "        self.coef_=None\n",
    "        self.interception_=None\n",
    "    def _sigmoid(self,t):\n",
    "        return 1./(1.+np.exp(-t))\n",
    "    def fit(self,X_train,y_train,lr=0.01,n_iters=1e4):\n",
    "        def dj(theta,X_b,y):\n",
    "            return (X_b.T.dot(self._sigmoid(X_b.dot(theta))-y)) /  len(X_b)\n",
    "        def gd(X_b,y,initial_theta,lr,n_iters):\n",
    "            theta=initial_theta\n",
    "            for _ in range(int(n_iters)):\n",
    "                gradient=dj(theta,X_b,y)\n",
    "                theta=theta-lr*gradient\n",
    "            return theta\n",
    "        X_b=np.hstack([np.ones((len(X_train),1)),X_train])\n",
    "        initial_theta=np.zeros(X_b.shape[1])\n",
    "        self._theta=gd(X_b,y_train,initial_theta,lr=lr,n_iters=n_iters)\n",
    "        self.interception_=self._theta[0]\n",
    "        self.coef_=self._theta[1:]\n",
    "        return self\n",
    "    def predict(self,X_predict):\n",
    "        X_b=np.hstack([np.ones((len(X_predict),1)),X_predict])\n",
    "        prob=self._sigmoid(X_b.dot(self._theta))\n",
    "        return np.array(prob>=0.5,dtype='int')\n",
    "    def score(self,X_test,y_test):\n",
    "        y_predict=self.predict(X_test)\n",
    "        return accuracy_score(y_test,y_predict)\n",
    "    def __repr__(self):\n",
    "        return 'tomoya' "
   ]
  },
  {
   "cell_type": "markdown",
   "metadata": {},
   "source": [
    "## Eva"
   ]
  },
  {
   "cell_type": "code",
   "execution_count": 60,
   "metadata": {},
   "outputs": [
    {
     "data": {
      "text/plain": [
       "1.0"
      ]
     },
     "execution_count": 60,
     "metadata": {},
     "output_type": "execute_result"
    }
   ],
   "source": [
    "log_reg=logistic_regression()\n",
    "log_reg.fit(X_iris_train,y_iris_train)\n",
    "log_reg.score(X_iris_test,y_iris_test)"
   ]
  },
  {
   "cell_type": "markdown",
   "metadata": {},
   "source": [
    "## Decision Boundary"
   ]
  },
  {
   "cell_type": "code",
   "execution_count": 61,
   "metadata": {},
   "outputs": [],
   "source": [
    "from matplotlib.colors import ListedColormap\n",
    "from sklearn.neighbors import KNeighborsClassifier "
   ]
  },
  {
   "cell_type": "code",
   "execution_count": 62,
   "metadata": {},
   "outputs": [],
   "source": [
    "def plot_decision_boundary(model,axis):\n",
    "    x0,x1=np.meshgrid(\n",
    "    np.linspace(axis[0],axis[1],int((axis[1]-axis[0])*100)),\n",
    "    np.linspace(axis[2],axis[3],int((axis[3]-axis[2])*100)))\n",
    "    X_new=np.c_[x0.ravel(),x1.ravel()]\n",
    "    y_predict=model.predict(X_new).reshape(x0.shape)\n",
    "    custom_cmap=ListedColormap(['#EF9A9A','#FFF59D','#90CAF9'])\n",
    "    plt.contourf(x0,x1,y_predict,cmap=custom_cmap)"
   ]
  },
  {
   "cell_type": "code",
   "execution_count": 63,
   "metadata": {},
   "outputs": [
    {
     "data": {
      "text/plain": [
       "<matplotlib.collections.PathCollection at 0x7f84b0233630>"
      ]
     },
     "execution_count": 63,
     "metadata": {},
     "output_type": "execute_result"
    },
    {
     "data": {
      "image/png": "[encoded data removed]",
      "text/plain": [
       "<Figure size 432x288 with 1 Axes>"
      ]
     },
     "metadata": {
      "needs_background": "light"
     },
     "output_type": "display_data"
    }
   ],
   "source": [
    "knn_clf=KNeighborsClassifier(n_neighbors=5)\n",
    "knn_clf.fit(iris['data'][:,:2],iris['target'])\n",
    "plot_decision_boundary(knn_clf,axis=[4,8,1.5,4.5])\n",
    "plt.scatter(iris['data'][iris['target']==0,0],iris['data'][iris['target']==0,1])\n",
    "plt.scatter(iris['data'][iris['target']==1,0],iris['data'][iris['target']==1,1])\n",
    "plt.scatter(iris['data'][iris['target']==2,0],iris['data'][iris['target']==2,1])"
   ]
  },
  {
   "cell_type": "code",
   "execution_count": 64,
   "metadata": {
    "scrolled": true
   },
   "outputs": [
    {
     "data": {
      "text/plain": [
       "<matplotlib.collections.PathCollection at 0x7f84b01fdba8>"
      ]
     },
     "execution_count": 64,
     "metadata": {},
     "output_type": "execute_result"
    },
    {
     "data": {
      "image/png": "[encoded data removed]",
      "text/plain": [
       "<Figure size 432x288 with 1 Axes>"
      ]
     },
     "metadata": {
      "needs_background": "light"
     },
     "output_type": "display_data"
    }
   ],
   "source": [
    "knn_clf=KNeighborsClassifier(n_neighbors=50)\n",
    "knn_clf.fit(iris['data'][:,:2],iris['target'])\n",
    "plot_decision_boundary(knn_clf,axis=[4,8,1.5,4.5])\n",
    "plt.scatter(iris['data'][iris['target']==0,0],iris['data'][iris['target']==0,1])\n",
    "plt.scatter(iris['data'][iris['target']==1,0],iris['data'][iris['target']==1,1])\n",
    "plt.scatter(iris['data'][iris['target']==2,0],iris['data'][iris['target']==2,1])"
   ]
  },
  {
   "cell_type": "markdown",
   "metadata": {},
   "source": [
    "## Polynomially"
   ]
  },
  {
   "cell_type": "code",
   "execution_count": 65,
   "metadata": {},
   "outputs": [],
   "source": [
    "from sklearn.linear_model import LogisticRegression\n",
    "from sklearn.preprocessing import PolynomialFeatures,StandardScaler\n",
    "from sklearn.pipeline import Pipeline"
   ]
  },
  {
   "cell_type": "code",
   "execution_count": 66,
   "metadata": {},
   "outputs": [],
   "source": [
    "def PolynomialLogisticRgression(degree,C,penalty='l1'):\n",
    "    return Pipeline([\n",
    "        ('poly',PolynomialFeatures(degree=degree)),\n",
    "        ('std',StandardScaler()),\n",
    "        ('log_reg',LogisticRegression(C=C,penalty=penalty))\n",
    "    ])"
   ]
  },
  {
   "cell_type": "code",
   "execution_count": 67,
   "metadata": {},
   "outputs": [
    {
     "name": "stdout",
     "output_type": "stream",
     "text": [
      "0.94\n"
     ]
    },
    {
     "data": {
      "text/plain": [
       "<matplotlib.collections.PathCollection at 0x7f84b01b4cf8>"
      ]
     },
     "execution_count": 67,
     "metadata": {},
     "output_type": "execute_result"
    },
    {
     "data": {
      "image/png": "[encoded data removed]",
      "text/plain": [
       "<Figure size 432x288 with 1 Axes>"
      ]
     },
     "metadata": {
      "needs_background": "light"
     },
     "output_type": "display_data"
    }
   ],
   "source": [
    "poly_log_reg=PolynomialLogisticRgression(degree=20,C=0.1)\n",
    "poly_log_reg.fit(X_train,y_train)\n",
    "print(poly_log_reg.score(X_test,y_test))\n",
    "plot_decision_boundary(poly_log_reg,axis=[-4,4,-4,4])\n",
    "plt.scatter(X[y==0,0],X[y==0,1])\n",
    "plt.scatter(X[y==1,0],X[y==1,1])"
   ]
  },
  {
   "cell_type": "code",
   "execution_count": null,
   "metadata": {},
   "outputs": [],
   "source": []
  }
 ],
 "metadata": {
  "kernelspec": {
   "display_name": "Python 3",
   "language": "python",
   "name": "python3"
  },
  "language_info": {
   "codemirror_mode": {
    "name": "ipython",
    "version": 3
   },
   "file_extension": ".py",
   "mimetype": "text/x-python",
   "name": "python",
   "nbconvert_exporter": "python",
   "pygments_lexer": "ipython3",
   "version": "3.5.2"
  }
 },
 "nbformat": 4,
 "nbformat_minor": 2
}
